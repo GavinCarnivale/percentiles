{
  "metadata": {
    "kernelspec": {
      "name": "xpython",
      "display_name": "Python 3.13 (XPython)",
      "language": "python"
    },
    "language_info": {
      "file_extension": ".py",
      "mimetype": "text/x-python",
      "name": "python",
      "version": "3.13.1"
    }
  },
  "nbformat_minor": 5,
  "nbformat": 4,
  "cells": [
    {
      "id": "cf4af8ea-7bbf-45d8-97af-1491bae2ba80",
      "cell_type": "code",
      "source": "import numpy as np\nfrom scipy.stats import percentileofscore\n\ndata = np.loadtxt(\"SOCR-HeightWeight.csv\", delimiter=\",\", dtype=float, skiprows=1)\n\nheights = data[:, 1] #pick the height column \n\nstandard_heights = np.std(heights, ddof=1) #get standard deviation\n\nuser_height = float(input(\"Enter your height\")) #get user input and turn it into a float\n\nuser_percentile = percentileofscore(heights, user_height, kind='rank')  #use nump/scipy to find the your percentile\nround(user_percentile, 2) #round the number\nprint (user_percentile)\n",
      "metadata": {
        "trusted": true
      },
      "outputs": [
        {
          "output_type": "stream",
          "name": "stdin",
          "text": "Enter your height 67\n"
        },
        {
          "name": "stdout",
          "output_type": "stream",
          "text": "30.008\n"
        }
      ],
      "execution_count": 5
    },
    {
      "id": "3b4ae5b0-384e-4830-857f-1d5f71ffa4f9",
      "cell_type": "code",
      "source": "",
      "metadata": {
        "trusted": true
      },
      "outputs": [],
      "execution_count": null
    }
  ]
}