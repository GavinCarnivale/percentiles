{
  "metadata": {
    "kernelspec": {
      "name": "xpython",
      "display_name": "Python 3.13 (XPython)",
      "language": "python"
    },
    "language_info": {
      "file_extension": ".py",
      "mimetype": "text/x-python",
      "name": "python",
      "version": "3.13.1"
    }
  },
  "nbformat_minor": 5,
  "nbformat": 4,
  "cells": [
    {
      "id": "7e930069-4c3d-4735-9150-c60de8c570fb",
      "cell_type": "code",
      "source": "import numpy as np\nfrom scipy.stats import percentileofscore\n\ndata = np.loadtxt(\"SOCR-HeightWeight.csv\", delimiter=\",\", dtype=float, skiprows=1)\n\nheights = data[:, 1] #pick the height column \n\nstandard_heights = np.std(heights, ddof=1) #get standard deviation\n\nuser_height = float(input(\"Enter your height\")) #get user input and turn it into a float\n\nuser_percentile = percentileofscore(heights, user_height, kind='rank')  #use nump/scipy to find the your percentile\nround(user_percentile, 2) #round the number\nprint (user_percentile)\n",
      "metadata": {
        "trusted": true
      },
      "outputs": [],
      "execution_count": null
    },
    {
      "id": "e1aa2362-5dd0-4fe6-be70-d52bd2ac4ae9",
      "cell_type": "code",
      "source": "",
      "metadata": {
        "trusted": true
      },
      "outputs": [],
      "execution_count": null
    }
  ]
}